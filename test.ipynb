{
 "cells": [
  {
   "cell_type": "code",
   "execution_count": 1,
   "id": "0ef098b7",
   "metadata": {},
   "outputs": [
    {
     "data": {
      "text/plain": [
       "True"
      ]
     },
     "execution_count": 1,
     "metadata": {},
     "output_type": "execute_result"
    }
   ],
   "source": [
    "import os\n",
    "from dotenv import load_dotenv\n",
    "from openai import AsyncAzureOpenAI\n",
    "\n",
    "load_dotenv()"
   ]
  },
  {
   "cell_type": "code",
   "execution_count": 2,
   "id": "6717eba5",
   "metadata": {},
   "outputs": [],
   "source": [
    "API_KEY = os.getenv(\"API_KEY\")\n",
    "API_BASE = os.getenv(\"API_BASE\")"
   ]
  },
  {
   "cell_type": "code",
   "execution_count": 3,
   "id": "33343d69",
   "metadata": {},
   "outputs": [],
   "source": [
    "#openai = AsyncOpenAI(api_key=os.getenv(\"OPENAI_API_KEY\"))\n",
    "azure = AsyncAzureOpenAI(\n",
    "    azure_endpoint=API_BASE,\n",
    "    api_key=API_KEY,\n",
    "    api_version=\"2025-03-01-preview\",\n",
    ")"
   ]
  },
  {
   "cell_type": "code",
   "execution_count": 4,
   "id": "a3205b96",
   "metadata": {},
   "outputs": [],
   "source": [
    "async def generate_audio_file(input, output_path, voice_name=\"coral\", instructions=None):\n",
    "    \"\"\"Generate audio file from OpenAI TTS and save to the given path\"\"\"\n",
    "    async with azure.audio.speech.with_streaming_response.create(\n",
    "        model=\"gpt-4o-mini-tts\",\n",
    "        voice=voice_name,\n",
    "        input=input,\n",
    "        instructions=instructions,\n",
    "        response_format=\"mp3\",\n",
    "    ) as response:\n",
    "        await response.stream_to_file(output_path)\n",
    "\n",
    "async def generate_srt_file(input_file_path, output_path, language=\"en\"):\n",
    "    with open(input_file_path, \"rb\") as audio_file:\n",
    "        # Create a transcription using OpenAI API\n",
    "        try:\n",
    "            transcription = await azure.audio.transcriptions.create(\n",
    "                file=audio_file, # a flac, mp3, mp4, mpeg, mpga, m4a, ogg, wav, webm\n",
    "                language=language,   # ISO code\n",
    "                model=\"whisper\",\n",
    "                response_format=\"srt\",  # also text, srt, verbose_json, or vtt\n",
    "                )\n",
    "            # Save the transcription to the specified output path\n",
    "            with open(output_path, \"w\", encoding=\"utf-8\") as srt_file:\n",
    "                srt_file.write(transcription)\n",
    "        except Exception as e:\n",
    "            print(f\"An API error occurred: {e}\")"
   ]
  },
  {
   "cell_type": "code",
   "execution_count": null,
   "id": "566d048e",
   "metadata": {},
   "outputs": [],
   "source": [
    "# max 2k tokens for input\n",
    "\n",
    "input = \"\"\"Thank you for reaching out, and I'm truly sorry about the unexpected charge on your bill. I completely understand how frustrating this must be, especially after your stay.\\n\\nAfter reviewing your reservation, I can confirm that this was an error on our part. I'll be issuing a full refund right away, and you should see the amount credited to your payment method within a few business days.\\n\\nI appreciate your understanding and patience, and I'm here if you need any further assistance. Thank you for allowing us to resolve this for you.\"\"\"\n",
    "voice = \"coral\"\n",
    "instructions = \"\"\"Voice Affect: Calm, composed, and reassuring. Competent and in control, instilling trust.\\n\\nTone: Sincere, empathetic, with genuine concern for the customer and understanding of the situation.\\n\\nPacing: Slower during the apology to allow for clarity and processing. Faster when offering solutions to signal action and resolution.\\n\\nEmotions: Calm reassurance, empathy, and gratitude.\\n\\nPronunciation: Clear, precise: Ensures clarity, especially with key details. Focus on key words like \\\"refund\\\" and \\\"patience.\\\" \\n\\nPauses: Before and after the apology to give space for processing the apology.\"\"\"\n",
    "\n",
    "mp3_output_path = \"output.mp3\"\n",
    "\n",
    "await generate_audio_file(\n",
    "    input=input,\n",
    "    output_path=mp3_output_path,\n",
    "    voice_name=voice,\n",
    "    instructions=instructions\n",
    ")\n",
    "\n",
    "await generate_srt_file(\n",
    "    input_file_path=mp3_output_path,\n",
    "    output_path=\"output.srt\",\n",
    "    language=\"en\"\n",
    ")\n"
   ]
  }
 ],
 "metadata": {
  "kernelspec": {
   "display_name": ".venv",
   "language": "python",
   "name": "python3"
  },
  "language_info": {
   "codemirror_mode": {
    "name": "ipython",
    "version": 3
   },
   "file_extension": ".py",
   "mimetype": "text/x-python",
   "name": "python",
   "nbconvert_exporter": "python",
   "pygments_lexer": "ipython3",
   "version": "3.9.13"
  }
 },
 "nbformat": 4,
 "nbformat_minor": 5
}
